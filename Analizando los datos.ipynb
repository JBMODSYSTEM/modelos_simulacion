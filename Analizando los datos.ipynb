{
 "cells": [
  {
   "cell_type": "markdown",
   "id": "28ddc19f",
   "metadata": {},
   "source": [
    "# Cargando conjunto de datos\n",
    "## Usando librerias de Python"
   ]
  },
  {
   "cell_type": "code",
   "execution_count": 1,
   "id": "51112e60",
   "metadata": {},
   "outputs": [
    {
     "name": "stdout",
     "output_type": "stream",
     "text": [
      "(768, 9)\n"
     ]
    }
   ],
   "source": [
    "# Importamos las librerías necesarias para la lectura de archivos CSV y el manejo de arrays\n",
    "# en Python. En este caso, utilizamos la librería csv para leer archivos CSV y numpy para manejar arrays.\n",
    "import csv\n",
    "import numpy as np\n",
    "\n",
    "# Creamos la variable para el archivo que contiene los datos\n",
    "filename = 'data/pima-indians-diabetes.csv'\n",
    "\n",
    "# Abrimos el archivo en modo lectura\n",
    "raw_data = open(filename, 'r')\n",
    "\n",
    "# Creamos un lector CSV para leer los datos del archivo\n",
    "reader = csv.reader(raw_data, delimiter=',', quoting=csv.QUOTE_NONE)\n",
    "\n",
    "# Convertimos los datos leídos en una lista\n",
    "x = list(reader)\n",
    "\n",
    "# Convertirmos la lista en un array de tipo float usando numpy\n",
    "data = np.array(x).astype('float')\n",
    "\n",
    "# Imprimimos la forma (dimensiones) del array resultante en formato (filas, columnas)\n",
    "print(data.shape)\n",
    "\n",
    "# Construir un documento donde colocamos el nombre de la columna y la descripción de cada una de ellas\n",
    "# para que el usuario pueda entender mejor los datos que contiene el archivo CSV"
   ]
  },
  {
   "cell_type": "markdown",
   "id": "c29d27ee",
   "metadata": {},
   "source": [
    "# Cargar datos con Pandas"
   ]
  },
  {
   "cell_type": "code",
   "execution_count": 7,
   "id": "1f25da53",
   "metadata": {},
   "outputs": [
    {
     "name": "stdout",
     "output_type": "stream",
     "text": [
      "\n",
      "\n",
      "Tipos de datos\n",
      " Pregnancies                   int64\n",
      "Glucose                       int64\n",
      "BloodPressure                 int64\n",
      "SkinThickness                 int64\n",
      "Insulin                       int64\n",
      "BMI                         float64\n",
      "DiabetesPedigreeFunction    float64\n",
      "Age                           int64\n",
      "Outcome                       int64\n",
      "dtype: object\n",
      "\n",
      "\n",
      "Forma y dimensión\n",
      " (768, 9)\n",
      "\n",
      "\n",
      "Resumen de los datos\n",
      "        Pregnancies     Glucose  BloodPressure  SkinThickness     Insulin  \\\n",
      "count   768.000000  768.000000     768.000000     768.000000  768.000000   \n",
      "mean      3.845052  120.894531      69.105469      20.536458   79.799479   \n",
      "std       3.369578   31.972618      19.355807      15.952218  115.244002   \n",
      "min       0.000000    0.000000       0.000000       0.000000    0.000000   \n",
      "25%       1.000000   99.000000      62.000000       0.000000    0.000000   \n",
      "50%       3.000000  117.000000      72.000000      23.000000   30.500000   \n",
      "75%       6.000000  140.250000      80.000000      32.000000  127.250000   \n",
      "max      17.000000  199.000000     122.000000      99.000000  846.000000   \n",
      "\n",
      "              BMI  DiabetesPedigreeFunction         Age     Outcome  \n",
      "count  768.000000                768.000000  768.000000  768.000000  \n",
      "mean    31.992578                  0.471876   33.240885    0.348958  \n",
      "std      7.884160                  0.331329   11.760232    0.476951  \n",
      "min      0.000000                  0.078000   21.000000    0.000000  \n",
      "25%     27.300000                  0.243750   24.000000    0.000000  \n",
      "50%     32.000000                  0.372500   29.000000    0.000000  \n",
      "75%     36.600000                  0.626250   41.000000    1.000000  \n",
      "max     67.100000                  2.420000   81.000000    1.000000  \n"
     ]
    }
   ],
   "source": [
    "import pandas as pd\n",
    "filename = 'data/pima-indians-diabetes.data.csv'\n",
    "\n",
    "names = ['Pregnancies', 'Glucose', 'BloodPressure', 'SkinThickness', 'Insulin', 'BMI', 'DiabetesPedigreeFunction', 'Age', 'Outcome']\n",
    "dataframe = pd.read_csv(filename, names=names)\n",
    "#Identidicar el tipo de dato de cada varaible\n",
    "print('\\n\\nTipos de datos\\n',dataframe.dtypes)\n",
    "#Conocer la forma y dimensión de los datos\n",
    "print('\\n\\nForma y dimensión\\n',dataframe.shape)\n",
    "#Resumen de los datos\n",
    "print('\\n\\nResumen de los datos\\n', dataframe.describe())"
   ]
  }
 ],
 "metadata": {
  "kernelspec": {
   "display_name": "modelos_simulacion",
   "language": "python",
   "name": "python3"
  },
  "language_info": {
   "codemirror_mode": {
    "name": "ipython",
    "version": 3
   },
   "file_extension": ".py",
   "mimetype": "text/x-python",
   "name": "python",
   "nbconvert_exporter": "python",
   "pygments_lexer": "ipython3",
   "version": "3.13.2"
  }
 },
 "nbformat": 4,
 "nbformat_minor": 5
}
