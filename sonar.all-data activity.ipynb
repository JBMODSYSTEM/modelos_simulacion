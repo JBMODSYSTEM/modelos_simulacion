{
 "cells": [
  {
   "cell_type": "markdown",
   "id": "f2aaa744",
   "metadata": {},
   "source": [
    "## Plantilla: Análisis y Preprocesamiento de Datasets Reales\n",
    "\n",
    "<div style=\"text-align: right\">\n",
    "<font  size=3 >Integrantes:</font></font><br>\n",
    "<font  size=3>Curso: Modelos de Simulación</font><br>"
   ]
  },
  {
   "cell_type": "markdown",
   "id": "296b7c7a",
   "metadata": {},
   "source": [
    "### Objetivo\n",
    "Desarrollar habilidades para identificar el tipo de dataset, realizar limpieza de datos y aplicar las técnicas de procesamiento previo de datos (preprocessing)."
   ]
  },
  {
   "cell_type": "markdown",
   "id": "b6e32c4f",
   "metadata": {},
   "source": [
    "\n",
    "### Análisis y Preprocesamiento del Dataset: nombre_del_dataset\n"
   ]
  },
  {
   "cell_type": "markdown",
   "id": "66147d55",
   "metadata": {},
   "source": [
    "### Fase 1: Análisis exploratorio inicial"
   ]
  },
  {
   "cell_type": "code",
   "execution_count": null,
   "id": "59a45027",
   "metadata": {},
   "outputs": [
    {
     "data": {
      "text/plain": [
       "[np.float64(1375000.0),\n",
       " np.float64(760000.0),\n",
       " np.float64(312000.0),\n",
       " np.float64(370000.0),\n",
       " np.float64(922000.0)]"
      ]
     },
     "execution_count": 1,
     "metadata": {},
     "output_type": "execute_result"
    }
   ],
   "source": [
    "# Importar Librerías \n",
    "\n",
    "# Cargar el dataset\n",
    "\n"
   ]
  },
  {
   "cell_type": "markdown",
   "id": "663d0b39",
   "metadata": {},
   "source": [
    "#### 1. Descripción del tipo de dataset:\n",
    "        1. ¿Es numérico, categórico o mixto?\n",
    "        2. ¿Está orientado a clasificación o regresión?\n"
   ]
  },
  {
   "cell_type": "code",
   "execution_count": null,
   "id": "0e09956d",
   "metadata": {},
   "outputs": [],
   "source": []
  },
  {
   "cell_type": "code",
   "execution_count": null,
   "id": "ff26136b",
   "metadata": {},
   "outputs": [],
   "source": []
  },
  {
   "cell_type": "markdown",
   "id": "e4636bcb",
   "metadata": {},
   "source": [
    "#### 2. Estructura del Dataset\n",
    "        1. Número de filas y columnas.\n",
    "        2. Tipos de datos por columna.\n",
    "        3. Presencia de valores faltantes o nulos.\n",
    "        4. ¿Hay columnas innecesarias, duplicadas o irrelevantes?\n"
   ]
  },
  {
   "cell_type": "code",
   "execution_count": null,
   "id": "e9f09773",
   "metadata": {},
   "outputs": [],
   "source": [
    "# Código para obtener el numero de filas y columnas "
   ]
  },
  {
   "cell_type": "code",
   "execution_count": null,
   "id": "9b50025b",
   "metadata": {},
   "outputs": [],
   "source": []
  },
  {
   "cell_type": "code",
   "execution_count": null,
   "id": "6ee80981",
   "metadata": {},
   "outputs": [],
   "source": []
  },
  {
   "cell_type": "code",
   "execution_count": null,
   "id": "b4e73068",
   "metadata": {},
   "outputs": [],
   "source": []
  },
  {
   "cell_type": "markdown",
   "id": "ffadbe9e",
   "metadata": {},
   "source": [
    "### Fase 2: Limpieza de datos"
   ]
  },
  {
   "cell_type": "code",
   "execution_count": null,
   "id": "60a31aa2",
   "metadata": {},
   "outputs": [],
   "source": [
    "# Eliminar duplicados"
   ]
  },
  {
   "cell_type": "code",
   "execution_count": null,
   "id": "5f3d6860",
   "metadata": {},
   "outputs": [],
   "source": [
    "# Imputar nulos si hay"
   ]
  },
  {
   "cell_type": "markdown",
   "id": "79afa070",
   "metadata": {},
   "source": [
    "### Fase 3: Preprocesamiento de datos"
   ]
  },
  {
   "cell_type": "code",
   "execution_count": null,
   "id": "d833b088",
   "metadata": {},
   "outputs": [],
   "source": []
  },
  {
   "cell_type": "code",
   "execution_count": null,
   "id": "0208ddfe",
   "metadata": {},
   "outputs": [],
   "source": []
  },
  {
   "cell_type": "code",
   "execution_count": null,
   "id": "20b655d9",
   "metadata": {},
   "outputs": [],
   "source": []
  },
  {
   "cell_type": "markdown",
   "id": "4407cdaf",
   "metadata": {},
   "source": [
    "### Conclusiones\n",
    "- Describe brevemente lo aprendido en esta práctica."
   ]
  }
 ],
 "metadata": {
  "kernelspec": {
   "display_name": "modelos_simulacion",
   "language": "python",
   "name": "python3"
  },
  "language_info": {
   "codemirror_mode": {
    "name": "ipython",
    "version": 3
   },
   "file_extension": ".py",
   "mimetype": "text/x-python",
   "name": "python",
   "nbconvert_exporter": "python",
   "pygments_lexer": "ipython3",
   "version": "3.13.2"
  }
 },
 "nbformat": 4,
 "nbformat_minor": 5
}
