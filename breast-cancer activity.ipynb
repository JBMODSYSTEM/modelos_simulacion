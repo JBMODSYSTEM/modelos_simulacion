{
 "cells": [
  {
   "cell_type": "markdown",
   "id": "f2aaa744",
   "metadata": {},
   "source": [
    "## Plantilla: Análisis y Preprocesamiento de Datasets Reales\n",
    "\n",
    "<div style=\"text-align: right\">\n",
    "<font  size=3 >Integrantes:</font></font><br>\n",
    "<font  size=3>Curso: Modelos de Simulación</font><br>"
   ]
  },
  {
   "cell_type": "markdown",
   "id": "296b7c7a",
   "metadata": {},
   "source": [
    "### Objetivo\n",
    "Desarrollar habilidades para identificar el tipo de dataset, realizar limpieza de datos y aplicar las técnicas de procesamiento previo de datos (preprocessing)."
   ]
  },
  {
   "cell_type": "markdown",
   "id": "b6e32c4f",
   "metadata": {},
   "source": [
    "\n",
    "### Análisis y Preprocesamiento del Dataset: nombre_del_dataset\n"
   ]
  },
  {
   "cell_type": "markdown",
   "id": "66147d55",
   "metadata": {},
   "source": [
    "### Fase 1: Análisis exploratorio inicial"
   ]
  },
  {
   "cell_type": "code",
   "execution_count": 26,
   "id": "59a45027",
   "metadata": {},
   "outputs": [
    {
     "data": {
      "text/html": [
       "<div>\n",
       "<style scoped>\n",
       "    .dataframe tbody tr th:only-of-type {\n",
       "        vertical-align: middle;\n",
       "    }\n",
       "\n",
       "    .dataframe tbody tr th {\n",
       "        vertical-align: top;\n",
       "    }\n",
       "\n",
       "    .dataframe thead th {\n",
       "        text-align: right;\n",
       "    }\n",
       "</style>\n",
       "<table border=\"1\" class=\"dataframe\">\n",
       "  <thead>\n",
       "    <tr style=\"text-align: right;\">\n",
       "      <th></th>\n",
       "      <th>'40-49'</th>\n",
       "      <th>'premeno'</th>\n",
       "      <th>'15-19'</th>\n",
       "      <th>'0-2'</th>\n",
       "      <th>'yes'</th>\n",
       "      <th>'3'</th>\n",
       "      <th>'right'</th>\n",
       "      <th>'left_up'</th>\n",
       "      <th>'no'</th>\n",
       "      <th>'recurrence-events'</th>\n",
       "    </tr>\n",
       "  </thead>\n",
       "  <tbody>\n",
       "    <tr>\n",
       "      <th>0</th>\n",
       "      <td>'50-59'</td>\n",
       "      <td>'ge40'</td>\n",
       "      <td>'15-19'</td>\n",
       "      <td>'0-2'</td>\n",
       "      <td>'no'</td>\n",
       "      <td>'1'</td>\n",
       "      <td>'right'</td>\n",
       "      <td>'central'</td>\n",
       "      <td>'no'</td>\n",
       "      <td>'no-recurrence-events'</td>\n",
       "    </tr>\n",
       "    <tr>\n",
       "      <th>1</th>\n",
       "      <td>'50-59'</td>\n",
       "      <td>'ge40'</td>\n",
       "      <td>'35-39'</td>\n",
       "      <td>'0-2'</td>\n",
       "      <td>'no'</td>\n",
       "      <td>'2'</td>\n",
       "      <td>'left'</td>\n",
       "      <td>'left_low'</td>\n",
       "      <td>'no'</td>\n",
       "      <td>'recurrence-events'</td>\n",
       "    </tr>\n",
       "    <tr>\n",
       "      <th>2</th>\n",
       "      <td>'40-49'</td>\n",
       "      <td>'premeno'</td>\n",
       "      <td>'35-39'</td>\n",
       "      <td>'0-2'</td>\n",
       "      <td>'yes'</td>\n",
       "      <td>'3'</td>\n",
       "      <td>'right'</td>\n",
       "      <td>'left_low'</td>\n",
       "      <td>'yes'</td>\n",
       "      <td>'no-recurrence-events'</td>\n",
       "    </tr>\n",
       "    <tr>\n",
       "      <th>3</th>\n",
       "      <td>'40-49'</td>\n",
       "      <td>'premeno'</td>\n",
       "      <td>'30-34'</td>\n",
       "      <td>'3-5'</td>\n",
       "      <td>'yes'</td>\n",
       "      <td>'2'</td>\n",
       "      <td>'left'</td>\n",
       "      <td>'right_up'</td>\n",
       "      <td>'no'</td>\n",
       "      <td>'recurrence-events'</td>\n",
       "    </tr>\n",
       "    <tr>\n",
       "      <th>4</th>\n",
       "      <td>'50-59'</td>\n",
       "      <td>'premeno'</td>\n",
       "      <td>'25-29'</td>\n",
       "      <td>'3-5'</td>\n",
       "      <td>'no'</td>\n",
       "      <td>'2'</td>\n",
       "      <td>'right'</td>\n",
       "      <td>'left_up'</td>\n",
       "      <td>'yes'</td>\n",
       "      <td>'no-recurrence-events'</td>\n",
       "    </tr>\n",
       "  </tbody>\n",
       "</table>\n",
       "</div>"
      ],
      "text/plain": [
       "   '40-49'  'premeno'  '15-19'  '0-2'  'yes'  '3'  'right'   'left_up'   'no'  \\\n",
       "0  '50-59'     'ge40'  '15-19'  '0-2'   'no'  '1'  'right'   'central'   'no'   \n",
       "1  '50-59'     'ge40'  '35-39'  '0-2'   'no'  '2'   'left'  'left_low'   'no'   \n",
       "2  '40-49'  'premeno'  '35-39'  '0-2'  'yes'  '3'  'right'  'left_low'  'yes'   \n",
       "3  '40-49'  'premeno'  '30-34'  '3-5'  'yes'  '2'   'left'  'right_up'   'no'   \n",
       "4  '50-59'  'premeno'  '25-29'  '3-5'   'no'  '2'  'right'   'left_up'  'yes'   \n",
       "\n",
       "      'recurrence-events'  \n",
       "0  'no-recurrence-events'  \n",
       "1     'recurrence-events'  \n",
       "2  'no-recurrence-events'  \n",
       "3     'recurrence-events'  \n",
       "4  'no-recurrence-events'  "
      ]
     },
     "execution_count": 26,
     "metadata": {},
     "output_type": "execute_result"
    }
   ],
   "source": [
    "import pandas as pd  # Importamos la biblioteca pandas para trabajar con datos estructurados como DataFrames.\n",
    "\n",
    "# Cargar el dataset\n",
    "filename = r\"data/breast-cancer.csv\"  # Usamos un string crudo (raw string) para evitar problemas con caracteres de escape.\n",
    "df = pd.read_csv(filename)  # Cargamos el dataset con los nombres de las columnas\n",
    "\n",
    "# Mostrar las primeras filas del DataFrame\n",
    "df.head()"
   ]
  },
  {
   "cell_type": "markdown",
   "id": "663d0b39",
   "metadata": {},
   "source": [
    "#### 1. Descripción del tipo de dataset:\n",
    "        1. ¿Es numérico, categórico o mixto?\n",
    "        2. ¿Está orientado a clasificación o regresión?\n"
   ]
  },
  {
   "cell_type": "code",
   "execution_count": 27,
   "id": "0e09956d",
   "metadata": {},
   "outputs": [
    {
     "name": "stdout",
     "output_type": "stream",
     "text": [
      "'40-49'                object\n",
      "'premeno'              object\n",
      "'15-19'                object\n",
      "'0-2'                  object\n",
      "'yes'                  object\n",
      "'3'                    object\n",
      "'right'                object\n",
      "'left_up'              object\n",
      "'no'                   object\n",
      "'recurrence-events'    object\n",
      "dtype: object\n"
     ]
    }
   ],
   "source": [
    "# Cargar el dataset utilizando la primera fila como encabezado\n",
    "df = pd.read_csv(filename, header=0)\n",
    "\n",
    "# Mostrar los tipos de datos de cada columna\n",
    "print(df.dtypes)"
   ]
  },
  {
   "cell_type": "markdown",
   "id": "8697fc68",
   "metadata": {},
   "source": [
    "### Tipo Mixto: La columnas mustran todos los datos en forma de objetos, pero se pueden trabajar y tranformar a numeros segun sea requerido por entidad\n",
    "\n",
    "\n",
    "### Orientacion: El dataset está orientado a ser de clasificacion ya que se busca saber si el paciente tiene o no tiene Cancer de mama Ref: https://www.kaggle.com/datasets/mahima5598/breast-cancer-datasetnodecaps"
   ]
  },
  {
   "cell_type": "code",
   "execution_count": null,
   "id": "ff26136b",
   "metadata": {},
   "outputs": [],
   "source": []
  },
  {
   "cell_type": "markdown",
   "id": "e4636bcb",
   "metadata": {},
   "source": [
    "#### 2. Estructura del Dataset\n",
    "        1. Número de filas y columnas.\n",
    "        2. Tipos de datos por columna.\n",
    "        3. Presencia de valores faltantes o nulos.\n",
    "        4. ¿Hay columnas innecesarias, duplicadas o irrelevantes?\n"
   ]
  },
  {
   "cell_type": "code",
   "execution_count": 28,
   "id": "e9f09773",
   "metadata": {},
   "outputs": [
    {
     "name": "stdout",
     "output_type": "stream",
     "text": [
      "(285, 10)\n",
      "El dataset tiene 285 filas y 10 columnas.\n"
     ]
    }
   ],
   "source": [
    "# Código para obtener el numero de filas y columnas\n",
    "print(df.shape)\n",
    "num_filas, num_columnas = df.shape\n",
    "print(f\"El dataset tiene {num_filas} filas y {num_columnas} columnas.\")  # Codgo para imprimir el número de filas y columnas"
   ]
  },
  {
   "cell_type": "code",
   "execution_count": 29,
   "id": "9b50025b",
   "metadata": {},
   "outputs": [
    {
     "data": {
      "text/plain": [
       "Age            object\n",
       "Menopause      object\n",
       "Tumor-size     object\n",
       "Inv-nodes      object\n",
       "Node-caps      object\n",
       "Deg-malig      object\n",
       "Breast         object\n",
       "Breast-quad    object\n",
       "Irradiat       object\n",
       "Class          object\n",
       "dtype: object"
      ]
     },
     "execution_count": 29,
     "metadata": {},
     "output_type": "execute_result"
    }
   ],
   "source": [
    "names = ['Age', 'Menopause', 'Tumor-size', 'Inv-nodes', 'Node-caps', 'Deg-malig', 'Breast', 'Breast-quad', 'Irradiat', 'Class']  # Lista de nombres de columnas\n",
    "df = pd.read_csv(filename, names=names)  # Cargamos el dataset con los nombres de las columnas\n",
    "df.dtypes # Mostramos los tipos de datos de cada columna del DataFrame"
   ]
  },
  {
   "cell_type": "code",
   "execution_count": 30,
   "id": "6ee80981",
   "metadata": {},
   "outputs": [
    {
     "name": "stdout",
     "output_type": "stream",
     "text": [
      "Por lo general, los valores faltantes en el dataset son: NaN o Null\n",
      "<class 'pandas.core.frame.DataFrame'>\n",
      "RangeIndex: 286 entries, 0 to 285\n",
      "Data columns (total 10 columns):\n",
      " #   Column       Non-Null Count  Dtype \n",
      "---  ------       --------------  ----- \n",
      " 0   Age          286 non-null    object\n",
      " 1   Menopause    286 non-null    object\n",
      " 2   Tumor-size   286 non-null    object\n",
      " 3   Inv-nodes    286 non-null    object\n",
      " 4   Node-caps    278 non-null    object\n",
      " 5   Deg-malig    286 non-null    object\n",
      " 6   Breast       286 non-null    object\n",
      " 7   Breast-quad  285 non-null    object\n",
      " 8   Irradiat     286 non-null    object\n",
      " 9   Class        286 non-null    object\n",
      "dtypes: object(10)\n",
      "memory usage: 22.5+ KB\n",
      "\n",
      " '40-49'                0\n",
      "'premeno'              0\n",
      "'15-19'                0\n",
      "'0-2'                  0\n",
      "'yes'                  8\n",
      "'3'                    0\n",
      "'right'                0\n",
      "'left_up'              1\n",
      "'no'                   0\n",
      "'recurrence-events'    0\n",
      "dtype: int64\n",
      "\n",
      "Valores faltantes en el dataset:\n",
      "True\n"
     ]
    }
   ],
   "source": [
    "print('Por lo general, los valores faltantes en el dataset son: NaN o Null')\n",
    "na_values = [\"?\", \"NA\", \"N/A\", \"None\", \"null\", \"nan\", \"\"]  # Definimos una lista de valores que se consideran como nulos\n",
    "df.info()  # Mostramos información general sobre el DataFrame, incluyendo el número de entradas no nulas por columna y el tipo de datos de cada columna\n",
    "\n",
    "df = pd.read_csv(filename, header=0, na_values=na_values)  # Cargamos el dataset con los valores nulos definidos anteriormente\n",
    "\n",
    "print('\\n',df.isnull().sum())  # Contamos los valores nulos en cada columna del DataFrame\n",
    "\n",
    "print('\\nValores faltantes en el dataset:')\n",
    "print(df.isnull().values.any())  # Contamos los valores nulos en cada columna del DataFrame\n"
   ]
  },
  {
   "cell_type": "code",
   "execution_count": 21,
   "id": "b4e73068",
   "metadata": {},
   "outputs": [
    {
     "name": "stdout",
     "output_type": "stream",
     "text": [
      "Index([''40-49'', ''premeno'', ''15-19'', ''0-2'', ''yes'', ''3'', ''right'',\n",
      "       ''left_up'', ''no'', ''recurrence-events''],\n",
      "      dtype='object')\n",
      "Valores únicos en la columna '40-49': [\"'50-59'\" \"'40-49'\" \"'60-69'\" \"'30-39'\" \"'70-79'\" \"'20-29'\"] subniveles\n",
      "Valores únicos en la columna 'premeno': [\"'ge40'\" \"'premeno'\" \"'lt40'\"] subniveles\n",
      "Valores únicos en la columna '15-19': [\"'15-19'\" \"'35-39'\" \"'30-34'\" \"'25-29'\" \"'40-44'\" \"'10-14'\" \"'0-4'\"\n",
      " \"'20-24'\" \"'45-49'\" \"'50-54'\" \"'5-9'\"] subniveles\n",
      "Valores únicos en la columna '0-2': [\"'0-2'\" \"'3-5'\" \"'15-17'\" \"'6-8'\" \"'9-11'\" \"'24-26'\" \"'12-14'\"] subniveles\n",
      "Valores únicos en la columna 'yes': [\"'no'\" \"'yes'\" nan] subniveles\n",
      "Valores únicos en la columna '3': [\"'1'\" \"'2'\" \"'3'\"] subniveles\n",
      "Valores únicos en la columna 'right': [\"'right'\" \"'left'\"] subniveles\n",
      "Valores únicos en la columna 'left_up': [\"'central'\" \"'left_low'\" \"'right_up'\" \"'left_up'\" \"'right_low'\" nan] subniveles\n",
      "Valores únicos en la columna 'no': [\"'no'\" \"'yes'\"] subniveles\n",
      "Valores únicos en la columna 'recurrence-events': [\"'no-recurrence-events'\" \"'recurrence-events'\"] subniveles\n"
     ]
    }
   ],
   "source": [
    "df = pd.read_csv(filename)  # Sin names, usa el encabezado original\n",
    "print(df.columns)  # Verifica cómo se llaman realmente\n",
    "\n",
    "for col in df.columns:\n",
    "    print(f\"Valores únicos en la columna {col}: {df[col].unique()} subniveles\")"
   ]
  },
  {
   "cell_type": "markdown",
   "id": "ffadbe9e",
   "metadata": {},
   "source": [
    "### Fase 2: Limpieza de datos"
   ]
  },
  {
   "cell_type": "code",
   "execution_count": 31,
   "id": "60a31aa2",
   "metadata": {},
   "outputs": [
    {
     "name": "stdout",
     "output_type": "stream",
     "text": [
      "Filas antes de eliminar duplicados: 285\n",
      "Filas después de eliminar duplicados: 271\n"
     ]
    }
   ],
   "source": [
    "# Eliminar duplicados\n",
    "print(f\"Filas antes de eliminar duplicados: {df.shape[0]}\") # Mostramos el número de filas antes de eliminar duplicados\n",
    "df = df.drop_duplicates()  # Eliminamos duplicados del DataFrame\n",
    "print(f\"Filas después de eliminar duplicados: {df.shape[0]}\")  # Mostramos el número de filas después de eliminar duplicados"
   ]
  },
  {
   "cell_type": "code",
   "execution_count": 32,
   "id": "5f3d6860",
   "metadata": {},
   "outputs": [
    {
     "name": "stdout",
     "output_type": "stream",
     "text": [
      "Filas antes de imputar nulos: 271\n",
      "Filas después de imputar nulos:      '40-49'  'premeno'  '15-19'  '0-2'  'yes'  '3'  'right'   'left_up'  \\\n",
      "0    '50-59'     'ge40'  '15-19'  '0-2'   'no'  '1'  'right'   'central'   \n",
      "1    '50-59'     'ge40'  '35-39'  '0-2'   'no'  '2'   'left'  'left_low'   \n",
      "2    '40-49'  'premeno'  '35-39'  '0-2'  'yes'  '3'  'right'  'left_low'   \n",
      "3    '40-49'  'premeno'  '30-34'  '3-5'  'yes'  '2'   'left'  'right_up'   \n",
      "4    '50-59'  'premeno'  '25-29'  '3-5'   'no'  '2'  'right'   'left_up'   \n",
      "..       ...        ...      ...    ...    ...  ...      ...         ...   \n",
      "280  '50-59'     'ge40'  '30-34'  '6-8'  'yes'  '2'   'left'  'left_low'   \n",
      "281  '50-59'  'premeno'  '25-29'  '3-5'  'yes'  '2'   'left'  'left_low'   \n",
      "282  '30-39'  'premeno'  '30-34'  '6-8'  'yes'  '2'  'right'  'right_up'   \n",
      "283  '50-59'  'premeno'  '15-19'  '0-2'   'no'  '2'  'right'  'left_low'   \n",
      "284  '50-59'     'ge40'  '40-44'  '0-2'   'no'  '3'   'left'  'right_up'   \n",
      "\n",
      "      'no'     'recurrence-events'  \n",
      "0     'no'  'no-recurrence-events'  \n",
      "1     'no'     'recurrence-events'  \n",
      "2    'yes'  'no-recurrence-events'  \n",
      "3     'no'     'recurrence-events'  \n",
      "4    'yes'  'no-recurrence-events'  \n",
      "..     ...                     ...  \n",
      "280   'no'  'no-recurrence-events'  \n",
      "281  'yes'  'no-recurrence-events'  \n",
      "282   'no'  'no-recurrence-events'  \n",
      "283   'no'  'no-recurrence-events'  \n",
      "284   'no'  'no-recurrence-events'  \n",
      "\n",
      "[271 rows x 10 columns]\n"
     ]
    }
   ],
   "source": [
    "# Imputar nulos si hay\n",
    "print(f\"Filas antes de imputar nulos: {df.shape[0]}\")  # Mostramos el número de filas antes de imputar nulos\n",
    "df_categorical_imputed = df.apply( lambda x: x.fillna(x.mode()[ 0 ]) if x.dtype == 'O'  else x)   # Imputamos nulos en columnas categóricas con la moda\n",
    "print(f\"Filas después de imputar nulos: {df_categorical_imputed}\")  # Mostramos el número de filas después de imputar nulos"
   ]
  },
  {
   "cell_type": "markdown",
   "id": "79afa070",
   "metadata": {},
   "source": [
    "### Fase 3: Preprocesamiento de datos"
   ]
  },
  {
   "cell_type": "code",
   "execution_count": null,
   "id": "d833b088",
   "metadata": {},
   "outputs": [],
   "source": []
  },
  {
   "cell_type": "code",
   "execution_count": null,
   "id": "0208ddfe",
   "metadata": {},
   "outputs": [],
   "source": []
  },
  {
   "cell_type": "code",
   "execution_count": null,
   "id": "20b655d9",
   "metadata": {},
   "outputs": [],
   "source": []
  },
  {
   "cell_type": "markdown",
   "id": "4407cdaf",
   "metadata": {},
   "source": [
    "### Conclusiones\n",
    "- Describe brevemente lo aprendido en esta práctica."
   ]
  }
 ],
 "metadata": {
  "kernelspec": {
   "display_name": "modelos_simulacion",
   "language": "python",
   "name": "python3"
  },
  "language_info": {
   "codemirror_mode": {
    "name": "ipython",
    "version": 3
   },
   "file_extension": ".py",
   "mimetype": "text/x-python",
   "name": "python",
   "nbconvert_exporter": "python",
   "pygments_lexer": "ipython3",
   "version": "3.13.2"
  }
 },
 "nbformat": 4,
 "nbformat_minor": 5
}
